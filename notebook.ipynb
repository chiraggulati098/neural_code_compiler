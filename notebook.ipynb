{
 "cells": [
  {
   "cell_type": "code",
   "execution_count": 1,
   "id": "893a8436-1636-49c9-a258-faf47413b85d",
   "metadata": {},
   "outputs": [],
   "source": [
    "import numpy as np\n",
    "import pandas as pd\n",
    "import os"
   ]
  },
  {
   "cell_type": "code",
   "execution_count": null,
   "id": "1c8b3a4d",
   "metadata": {},
   "outputs": [],
   "source": [
    "dataset = pd.read_csv(\"/kaggle/input/handwritten-code-python/dataset.csv\")\n",
    "for index, row in dataset.iterrows():\n",
    "    img_path = os.path.join(\"/kaggle/input/handwritten-code-python/images\", row[\"img_name\"])\n",
    "    assert os.path.exists(img_path), f\"Image {img_path} not found\""
   ]
  }
 ],
 "metadata": {
  "kernelspec": {
   "display_name": "venv",
   "language": "python",
   "name": "python3"
  },
  "language_info": {
   "codemirror_mode": {
    "name": "ipython",
    "version": 3
   },
   "file_extension": ".py",
   "mimetype": "text/x-python",
   "name": "python",
   "nbconvert_exporter": "python",
   "pygments_lexer": "ipython3",
   "version": "3.13.3"
  }
 },
 "nbformat": 4,
 "nbformat_minor": 5
}
