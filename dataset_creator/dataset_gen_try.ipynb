{
 "cells": [
  {
   "cell_type": "code",
   "execution_count": 11,
   "id": "7bf518a4-34e4-4b4d-b1a4-2a6cfc6c2a75",
   "metadata": {},
   "outputs": [],
   "source": [
    "from google import genai\n",
    "from google.genai import types"
   ]
  },
  {
   "cell_type": "code",
   "execution_count": 2,
   "id": "7033633e-2f73-41e1-a625-333f6d643bef",
   "metadata": {},
   "outputs": [
    {
     "data": {
      "text/plain": [
       "True"
      ]
     },
     "execution_count": 2,
     "metadata": {},
     "output_type": "execute_result"
    }
   ],
   "source": [
    "from dotenv import load_dotenv\n",
    "import os\n",
    "load_dotenv()"
   ]
  },
  {
   "cell_type": "code",
   "execution_count": 4,
   "id": "a20f3784-5a59-4812-b7e6-a65f036f6434",
   "metadata": {},
   "outputs": [],
   "source": [
    "GEMINI_API = os.getenv(\"GEMINI_API\")"
   ]
  },
  {
   "cell_type": "code",
   "execution_count": 22,
   "id": "5eb94ae7-bede-4fa2-9dd7-ed592960e869",
   "metadata": {},
   "outputs": [],
   "source": [
    "image_path = \"dataset/images_to_review/2.png\"  "
   ]
  },
  {
   "cell_type": "code",
   "execution_count": 19,
   "id": "8fb6747c-0831-4877-a5c6-00f1416c4209",
   "metadata": {},
   "outputs": [],
   "source": [
    "def get_code_from_gemini(img_path):\n",
    "    with open(img_path, \"rb\") as img_file:\n",
    "        image_data = img_file.read()\n",
    "    \n",
    "    client = genai.Client(api_key = GEMINI_API)\n",
    "    \n",
    "    response = client.models.generate_content(\n",
    "        model=\"gemini-1.5-flash\",  \n",
    "        contents=[\n",
    "            \"Extract and return only the code written in this image. The code is handwritten and in C or C++. Do not include any explanations or comments or even tripple backticks, just give me the code as plain text.\\n\\nCode:\",\n",
    "            types.Part.from_bytes(data=image_data, mime_type=\"image/png\")  \n",
    "        ]\n",
    "    )\n",
    "    \n",
    "    return(response.text)"
   ]
  },
  {
   "cell_type": "code",
   "execution_count": 23,
   "id": "c82773ae-7bfe-49ed-815e-3c2dbb550d8c",
   "metadata": {},
   "outputs": [],
   "source": [
    "s = get_code_from_gemini(image_path)"
   ]
  },
  {
   "cell_type": "code",
   "execution_count": 24,
   "id": "c6aa0f03-3d51-4ded-a4d5-0157f3adb360",
   "metadata": {},
   "outputs": [
    {
     "name": "stdout",
     "output_type": "stream",
     "text": [
      "#include <iostream>\n",
      "int main(int argc, char ** argv)\n",
      "{\n",
      "std::cout << \"Hello World!\" << std::endl;\n",
      "return 0;\n",
      "}\n"
     ]
    }
   ],
   "source": [
    "print(s)"
   ]
  },
  {
   "cell_type": "code",
   "execution_count": null,
   "id": "45e76d79-0a35-4bd6-ac35-54642c60bd6b",
   "metadata": {},
   "outputs": [],
   "source": []
  }
 ],
 "metadata": {
  "kernelspec": {
   "display_name": "Python 3.14 (OCR_CD_Project)",
   "language": "python",
   "name": "ocr_cd_project"
  },
  "language_info": {
   "codemirror_mode": {
    "name": "ipython",
    "version": 3
   },
   "file_extension": ".py",
   "mimetype": "text/x-python",
   "name": "python",
   "nbconvert_exporter": "python",
   "pygments_lexer": "ipython3",
   "version": "3.12.4"
  }
 },
 "nbformat": 4,
 "nbformat_minor": 5
}
